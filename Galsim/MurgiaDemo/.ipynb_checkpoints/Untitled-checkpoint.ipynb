{
 "cells": [
  {
   "cell_type": "markdown",
   "metadata": {},
   "source": [
    "# This code is from GalSim github\n",
    "### File location: 'devel/lsst/test_bf_direction.py'"
   ]
  },
  {
   "cell_type": "code",
   "execution_count": 1,
   "metadata": {},
   "outputs": [
    {
     "name": "stdout",
     "output_type": "stream",
     "text": [
      "im min =  0.0\n",
      "im max =  1064197.0\n",
      "im(0,0) =  1064197.0\n",
      "+- 1 along column:  487367.0 487515.0\n",
      "+- 1 along row:     441470.0 438840.0\n",
      "area min =  0.39808340005733156\n",
      "area max =  1.0925486809574905\n",
      "area(0,0) =  0.39808340005733156\n",
      "+- 1 along column:  0.7817406146860086 0.7819231584373266\n",
      "+- 1 along row:     0.746932576638766 0.7523096370664014\n"
     ]
    }
   ],
   "source": [
    "from __future__ import print_function\n",
    "import galsim\n",
    "\n",
    "obj = galsim.Gaussian(flux=3.539e6, sigma=0.1)\n",
    "\n",
    "rng = galsim.BaseDeviate(5678)\n",
    "silicon = galsim.SiliconSensor(rng=rng)\n",
    "\n",
    "im = obj.drawImage(nx=17, ny=17, scale=0.3, dtype=float, method='phot', sensor=silicon)\n",
    "im.setCenter(0,0)\n",
    "im.write('./bf_output/test.fits')\n",
    "\n",
    "print('im min = ',im.array.min())\n",
    "print('im max = ',im.array.max())\n",
    "print('im(0,0) = ',im(0,0))\n",
    "print('+- 1 along column: ',im(0,1),im(0,-1))\n",
    "print('+- 1 along row:    ',im(1,0),im(-1,0))\n",
    "\n",
    "area_image = silicon.calculate_pixel_areas(im)\n",
    "area_image.write('./bf_output/area.fits')\n",
    "print('area min = ',area_image.array.min())\n",
    "print('area max = ',area_image.array.max())\n",
    "print('area(0,0) = ',area_image(0,0))\n",
    "\n",
    "print('+- 1 along column: ',area_image(0,1),area_image(0,-1))\n",
    "print('+- 1 along row:    ',area_image(1,0),area_image(-1,0))"
   ]
  },
  {
   "cell_type": "code",
   "execution_count": null,
   "metadata": {},
   "outputs": [],
   "source": []
  }
 ],
 "metadata": {
  "kernelspec": {
   "display_name": "Python 2",
   "language": "python",
   "name": "python2"
  },
  "language_info": {
   "codemirror_mode": {
    "name": "ipython",
    "version": 2
   },
   "file_extension": ".py",
   "mimetype": "text/x-python",
   "name": "python",
   "nbconvert_exporter": "python",
   "pygments_lexer": "ipython2",
   "version": "2.7.16"
  }
 },
 "nbformat": 4,
 "nbformat_minor": 2
}
